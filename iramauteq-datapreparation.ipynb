{
 "metadata": {
  "language_info": {
   "codemirror_mode": {
    "name": "ipython",
    "version": 3
   },
   "file_extension": ".py",
   "mimetype": "text/x-python",
   "name": "python",
   "nbconvert_exporter": "python",
   "pygments_lexer": "ipython3",
   "version": "3.8.6-final"
  },
  "orig_nbformat": 2,
  "kernelspec": {
   "name": "Python 3.8.6 64-bit",
   "display_name": "Python 3.8.6 64-bit",
   "metadata": {
    "interpreter": {
     "hash": "70bda55ef8f621806a4cb4a910d47a2cbacf2da3691c6e60b1b7051fc3a89d4d"
    }
   }
  }
 },
 "nbformat": 4,
 "nbformat_minor": 2,
 "cells": [
  {
   "cell_type": "code",
   "execution_count": 1,
   "metadata": {},
   "outputs": [],
   "source": [
    "# -*- coding: utf-8 -*-\n",
    "import pandas as pd\n",
    "import re \n",
    "import json\n",
    "import os \n",
    "\n"
   ]
  },
  {
   "cell_type": "code",
   "execution_count": 2,
   "metadata": {
    "tags": []
   },
   "outputs": [],
   "source": [
    "list_tweets = []\n",
    "with open('cloroquina.json',  encoding='utf8') as f:\n",
    "  data = json.load(f)\n",
    "  for tweet_data in data:  \n",
    "    tweet = {\n",
    "        \"description\": tweet_data['description'],\n",
    "    }\n",
    "    list_tweets.append(tweet)\n",
    "\n",
    "    "
   ]
  },
  {
   "cell_type": "code",
   "execution_count": 3,
   "metadata": {
    "tags": []
   },
   "outputs": [],
   "source": [
    "f = open(\"iramauteq-cloroquina.txt\", \"w\", encoding=\"utf-8\")\n",
    "\n",
    "inicia_comando =  \"*\" * 4\n",
    "var = \"tweet\"\n",
    "tags = ['https', 't co']\n",
    "\n",
    "for i in range(len(list_tweets)):\n",
    "   p = re.compile('\\w+') # retira todos os simbolos não alfa-numericos\n",
    "   description = p.findall(list_tweets[i]['description'])\n",
    "   description = ' '.join(description) \n",
    "   for tag in tags:\n",
    "       description =  description.replace(tag, '')\n",
    "   # print(f\"{inicia_comando} *{var}\\n{description}\\n\\n\")\n",
    "   f.write(f\"{inicia_comando} *{var}\\n{description}\\n\\n\")\n",
    "f.close()\n",
    "\n"
   ]
  },
  {
   "cell_type": "code",
   "execution_count": null,
   "metadata": {},
   "outputs": [],
   "source": []
  }
 ]
}